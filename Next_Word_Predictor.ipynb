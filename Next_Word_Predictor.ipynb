{
  "nbformat": 4,
  "nbformat_minor": 0,
  "metadata": {
    "colab": {
      "name": "Next_Word_Predictor.ipynb",
      "provenance": [],
      "authorship_tag": "ABX9TyOhbte11JY2gVmOx9jASCwN",
      "include_colab_link": true
    },
    "kernelspec": {
      "name": "python3",
      "display_name": "Python 3"
    },
    "language_info": {
      "name": "python"
    }
  },
  "cells": [
    {
      "cell_type": "markdown",
      "metadata": {
        "id": "view-in-github",
        "colab_type": "text"
      },
      "source": [
        "<a href=\"https://colab.research.google.com/github/Adizcool/Next_Word_Predictor/blob/main/Next_Word_Predictor.ipynb\" target=\"_parent\"><img src=\"https://colab.research.google.com/assets/colab-badge.svg\" alt=\"Open In Colab\"/></a>"
      ]
    },
    {
      "cell_type": "code",
      "execution_count": 1,
      "metadata": {
        "id": "Ku5Qr2xu5F-V"
      },
      "outputs": [],
      "source": [
        "import numpy as np\n",
        "from nltk.tokenize import RegexpTokenizer\n",
        "from keras.models import Sequential, load_model\n",
        "from keras.layers import LSTM\n",
        "from keras.layers.core import Dense, Activation\n",
        "from tensorflow.keras.optimizers import RMSprop\n",
        "import matplotlib.pyplot as plt\n",
        "import pickle\n",
        "import heapq\n"
      ]
    },
    {
      "cell_type": "code",
      "source": [
        "text = open('1661-0.txt').read().lower()\n",
        "print('corpus length:', len(text))\n"
      ],
      "metadata": {
        "id": "moiOeznY5NXt",
        "outputId": "888c8af1-d078-432f-d070-0df1d06dadb4",
        "colab": {
          "base_uri": "https://localhost:8080/"
        }
      },
      "execution_count": 2,
      "outputs": [
        {
          "output_type": "stream",
          "name": "stdout",
          "text": [
            "corpus length: 581888\n"
          ]
        }
      ]
    },
    {
      "cell_type": "code",
      "source": [
        "tokenizer = RegexpTokenizer(r'\\w+')\n",
        "words = tokenizer.tokenize(text)\n"
      ],
      "metadata": {
        "id": "Tl6E88S45oi8"
      },
      "execution_count": 3,
      "outputs": []
    },
    {
      "cell_type": "code",
      "source": [
        "unique_words = np.unique(words)\n",
        "unique_word_index = dict((c, i) for i, c in enumerate(unique_words))\n"
      ],
      "metadata": {
        "id": "a94GsT8B5w5C"
      },
      "execution_count": 4,
      "outputs": []
    },
    {
      "cell_type": "code",
      "source": [
        "WORD_LENGTH = 5\n",
        "prev_words = []\n",
        "next_words = []\n",
        "for i in range(len(words) - WORD_LENGTH):\n",
        "    prev_words.append(words[i:i + WORD_LENGTH])\n",
        "    next_words.append(words[i + WORD_LENGTH])\n",
        "print(prev_words[0])\n",
        "print(next_words[0])\n"
      ],
      "metadata": {
        "id": "DnWBUKPg5zCo",
        "outputId": "b6fb12ab-c13f-4112-9241-37b9baf16f4f",
        "colab": {
          "base_uri": "https://localhost:8080/"
        }
      },
      "execution_count": 5,
      "outputs": [
        {
          "output_type": "stream",
          "name": "stdout",
          "text": [
            "['project', 'gutenberg', 's', 'the', 'adventures']\n",
            "of\n"
          ]
        }
      ]
    },
    {
      "cell_type": "code",
      "source": [
        "X = np.zeros((len(prev_words), WORD_LENGTH, len(unique_words)), dtype=bool)\n",
        "Y = np.zeros((len(next_words), len(unique_words)), dtype=bool)\n"
      ],
      "metadata": {
        "id": "eDhw0ytN55mv"
      },
      "execution_count": 6,
      "outputs": []
    },
    {
      "cell_type": "code",
      "source": [
        "for i, each_words in enumerate(prev_words):\n",
        "    for j, each_word in enumerate(each_words):\n",
        "        X[i, j, unique_word_index[each_word]] = 1\n",
        "    Y[i, unique_word_index[next_words[i]]] = 1\n"
      ],
      "metadata": {
        "id": "xMbYkV4d67_j"
      },
      "execution_count": 7,
      "outputs": []
    },
    {
      "cell_type": "code",
      "source": [
        "print(X[0][0])\n"
      ],
      "metadata": {
        "id": "Vv2M8b-I7CN_",
        "outputId": "db62e022-6d42-40ef-dfbf-c938153d0385",
        "colab": {
          "base_uri": "https://localhost:8080/"
        }
      },
      "execution_count": 8,
      "outputs": [
        {
          "output_type": "stream",
          "name": "stdout",
          "text": [
            "[False False False ... False False False]\n"
          ]
        }
      ]
    },
    {
      "cell_type": "code",
      "source": [
        "model = Sequential()\n",
        "model.add(LSTM(128, input_shape=(WORD_LENGTH, len(unique_words))))\n",
        "model.add(Dense(len(unique_words)))\n",
        "model.add(Activation('softmax'))\n"
      ],
      "metadata": {
        "id": "DlbDcDjH7I2M"
      },
      "execution_count": 9,
      "outputs": []
    },
    {
      "cell_type": "code",
      "source": [
        "optimizer = RMSprop(lr=0.01)\n",
        "model.compile(loss='categorical_crossentropy', optimizer=optimizer, metrics=['accuracy'])\n",
        "history = model.fit(X, Y, validation_split=0.05, batch_size=128, epochs=20, shuffle=True).history\n"
      ],
      "metadata": {
        "id": "EnKftKv_7Lwp",
        "outputId": "464f22b1-d69e-48de-e0ca-15396d29c732",
        "colab": {
          "base_uri": "https://localhost:8080/"
        }
      },
      "execution_count": 10,
      "outputs": [
        {
          "output_type": "stream",
          "name": "stdout",
          "text": [
            "Epoch 1/20\n"
          ]
        },
        {
          "output_type": "stream",
          "name": "stderr",
          "text": [
            "/usr/local/lib/python3.7/dist-packages/keras/optimizer_v2/rmsprop.py:130: UserWarning: The `lr` argument is deprecated, use `learning_rate` instead.\n",
            "  super(RMSprop, self).__init__(name, **kwargs)\n"
          ]
        },
        {
          "output_type": "stream",
          "name": "stdout",
          "text": [
            "811/811 [==============================] - 245s 300ms/step - loss: 6.0128 - accuracy: 0.1070 - val_loss: 7.0675 - val_accuracy: 0.1036\n",
            "Epoch 2/20\n",
            "811/811 [==============================] - 238s 294ms/step - loss: 5.7855 - accuracy: 0.1471 - val_loss: 7.9039 - val_accuracy: 0.1084\n",
            "Epoch 3/20\n",
            "811/811 [==============================] - 242s 298ms/step - loss: 5.7573 - accuracy: 0.1781 - val_loss: 7.9222 - val_accuracy: 0.1003\n",
            "Epoch 4/20\n",
            "811/811 [==============================] - 239s 295ms/step - loss: 5.4647 - accuracy: 0.2113 - val_loss: 8.2357 - val_accuracy: 0.0974\n",
            "Epoch 5/20\n",
            "811/811 [==============================] - 244s 301ms/step - loss: 5.1258 - accuracy: 0.2492 - val_loss: 8.4967 - val_accuracy: 0.0915\n",
            "Epoch 6/20\n",
            "811/811 [==============================] - 234s 289ms/step - loss: 4.7841 - accuracy: 0.2910 - val_loss: 8.7617 - val_accuracy: 0.0903\n",
            "Epoch 7/20\n",
            "811/811 [==============================] - 228s 281ms/step - loss: 4.4685 - accuracy: 0.3336 - val_loss: 8.8400 - val_accuracy: 0.0842\n",
            "Epoch 8/20\n",
            "811/811 [==============================] - 232s 286ms/step - loss: 4.2243 - accuracy: 0.3716 - val_loss: 9.1744 - val_accuracy: 0.0818\n",
            "Epoch 9/20\n",
            "811/811 [==============================] - 229s 283ms/step - loss: 4.0168 - accuracy: 0.4065 - val_loss: 9.3027 - val_accuracy: 0.0793\n",
            "Epoch 10/20\n",
            "811/811 [==============================] - 232s 286ms/step - loss: 3.8474 - accuracy: 0.4363 - val_loss: 9.3037 - val_accuracy: 0.0778\n",
            "Epoch 11/20\n",
            "811/811 [==============================] - 230s 284ms/step - loss: 3.7212 - accuracy: 0.4606 - val_loss: 9.4430 - val_accuracy: 0.0714\n",
            "Epoch 12/20\n",
            "811/811 [==============================] - 229s 282ms/step - loss: 3.6100 - accuracy: 0.4854 - val_loss: 9.7944 - val_accuracy: 0.0736\n",
            "Epoch 13/20\n",
            "811/811 [==============================] - 227s 280ms/step - loss: 3.5056 - accuracy: 0.5070 - val_loss: 9.8831 - val_accuracy: 0.0707\n",
            "Epoch 14/20\n",
            "811/811 [==============================] - 228s 281ms/step - loss: 3.4275 - accuracy: 0.5259 - val_loss: 10.0066 - val_accuracy: 0.0644\n",
            "Epoch 15/20\n",
            "811/811 [==============================] - 228s 281ms/step - loss: 3.3549 - accuracy: 0.5403 - val_loss: 10.1829 - val_accuracy: 0.0672\n",
            "Epoch 16/20\n",
            "811/811 [==============================] - 226s 279ms/step - loss: 3.2695 - accuracy: 0.5562 - val_loss: 10.3903 - val_accuracy: 0.0685\n",
            "Epoch 17/20\n",
            "811/811 [==============================] - 225s 278ms/step - loss: 3.2007 - accuracy: 0.5686 - val_loss: 10.3101 - val_accuracy: 0.0619\n",
            "Epoch 18/20\n",
            "811/811 [==============================] - 227s 280ms/step - loss: 3.1638 - accuracy: 0.5775 - val_loss: 10.4375 - val_accuracy: 0.0681\n",
            "Epoch 19/20\n",
            "811/811 [==============================] - 224s 277ms/step - loss: 3.1359 - accuracy: 0.5888 - val_loss: 10.6822 - val_accuracy: 0.0637\n",
            "Epoch 20/20\n",
            "811/811 [==============================] - 225s 277ms/step - loss: 3.1276 - accuracy: 0.5940 - val_loss: 10.9639 - val_accuracy: 0.0597\n"
          ]
        }
      ]
    },
    {
      "cell_type": "code",
      "source": [
        "plt.plot(history['accuracy'])\n",
        "plt.plot(history['val_accuracy'])\n",
        "plt.title('model accuracy')\n",
        "plt.ylabel('accuracy')\n",
        "plt.xlabel('epoch')\n",
        "plt.legend(['train', 'test'], loc='upper left')"
      ],
      "metadata": {
        "id": "_WqLCbwYAXc6",
        "colab": {
          "base_uri": "https://localhost:8080/",
          "height": 312
        },
        "outputId": "8bdc7c55-51ce-4117-a4ff-eb484ed6bc4d"
      },
      "execution_count": 11,
      "outputs": [
        {
          "output_type": "execute_result",
          "data": {
            "text/plain": [
              "<matplotlib.legend.Legend at 0x7f2ab22bd250>"
            ]
          },
          "metadata": {},
          "execution_count": 11
        },
        {
          "output_type": "display_data",
          "data": {
            "text/plain": [
              "<Figure size 432x288 with 1 Axes>"
            ],
            "image/png": "[encoded data removed]"
          },
          "metadata": {
            "needs_background": "light"
          }
        }
      ]
    },
    {
      "cell_type": "code",
      "source": [
        "plt.plot(history['loss'])\n",
        "plt.plot(history['val_loss'])\n",
        "plt.title('model loss')\n",
        "plt.ylabel('loss')\n",
        "plt.xlabel('epoch')\n",
        "plt.legend(['train', 'test'], loc='upper left')"
      ],
      "metadata": {
        "id": "oTo82vR7AecJ",
        "colab": {
          "base_uri": "https://localhost:8080/",
          "height": 312
        },
        "outputId": "be784a60-9438-4081-a912-1c8f10ac54fa"
      },
      "execution_count": 12,
      "outputs": [
        {
          "output_type": "execute_result",
          "data": {
            "text/plain": [
              "<matplotlib.legend.Legend at 0x7f2ab81d8a10>"
            ]
          },
          "metadata": {},
          "execution_count": 12
        },
        {
          "output_type": "display_data",
          "data": {
            "text/plain": [
              "<Figure size 432x288 with 1 Axes>"
            ],
            "image/png": "[encoded data removed]"
          },
          "metadata": {
            "needs_background": "light"
          }
        }
      ]
    },
    {
      "cell_type": "code",
      "source": [
        "model.save('keras_next_word_model.h5')\n",
        "pickle.dump(history, open(\"history.p\", \"wb\"))\n",
        "\n",
        "model = load_model('keras_next_word_model.h5')\n",
        "history = pickle.load(open(\"history.p\", \"rb\"))\n"
      ],
      "metadata": {
        "id": "FxQjpY0X7OE2"
      },
      "execution_count": 13,
      "outputs": []
    },
    {
      "cell_type": "code",
      "source": [
        "def prepare_input(text):\n",
        "    x = np.zeros((1, WORD_LENGTH, len(unique_words)))\n",
        "    for t, word in enumerate(text.split()):\n",
        "        print(word)\n",
        "        x[0, t, unique_word_index[word]] = 1\n",
        "    return x\n",
        "prepare_input(\"It is not a lack\".lower())\n"
      ],
      "metadata": {
        "id": "BShYxEya8ihP",
        "colab": {
          "base_uri": "https://localhost:8080/"
        },
        "outputId": "107ba8e3-2d0d-4036-ecfd-780cff3132fc"
      },
      "execution_count": 14,
      "outputs": [
        {
          "output_type": "stream",
          "name": "stdout",
          "text": [
            "it\n",
            "is\n",
            "not\n",
            "a\n",
            "lack\n"
          ]
        },
        {
          "output_type": "execute_result",
          "data": {
            "text/plain": [
              "array([[[0., 0., 0., ..., 0., 0., 0.],\n",
              "        [0., 0., 0., ..., 0., 0., 0.],\n",
              "        [0., 0., 0., ..., 0., 0., 0.],\n",
              "        [0., 0., 0., ..., 0., 0., 0.],\n",
              "        [0., 0., 0., ..., 0., 0., 0.]]])"
            ]
          },
          "metadata": {},
          "execution_count": 14
        }
      ]
    },
    {
      "cell_type": "code",
      "source": [
        "def sample(preds, top_n=3):\n",
        "    preds = np.asarray(preds).astype('float64')\n",
        "    preds = np.log(preds)\n",
        "    exp_preds = np.exp(preds)\n",
        "    preds = exp_preds / np.sum(exp_preds)\n",
        "    return heapq.nlargest(top_n, range(len(preds)), preds.take)\n"
      ],
      "metadata": {
        "id": "fCcZ6hVH8leh"
      },
      "execution_count": 15,
      "outputs": []
    },
    {
      "cell_type": "code",
      "source": [
        "def predict_completions(text, n=3):\n",
        "    if text == \"\":\n",
        "        return(\"0\")\n",
        "    x = prepare_input(text)\n",
        "    preds = model.predict(x, verbose=0)[0]\n",
        "    next_indices = sample(preds, n)\n",
        "    return [unique_words[idx] for idx in next_indices]\n"
      ],
      "metadata": {
        "id": "TqZ7DEVj8pLe"
      },
      "execution_count": 16,
      "outputs": []
    },
    {
      "cell_type": "code",
      "source": [
        "quotes = [\n",
        "    \"I came here to see you again.\",\n",
        "    \"If it does not kill us makes us stronger.\",\n",
        "    \"Are you heading back to the garden?\"\n",
        "]\n",
        "for q in quotes:\n",
        "  print(\"correct sentence: \",q)\n",
        "  seq = \" \".join(tokenizer.tokenize(q.lower())[0:5])\n",
        "  print(\"Sequence: \",seq)\n",
        "  print(\"next possible words: \", predict_completions(seq, 5))\n"
      ],
      "metadata": {
        "id": "aQGolMWy_EFD",
        "colab": {
          "base_uri": "https://localhost:8080/"
        },
        "outputId": "6ad2ea23-c6a0-4c55-a692-c67055e1e0f2"
      },
      "execution_count": 22,
      "outputs": [
        {
          "output_type": "stream",
          "name": "stdout",
          "text": [
            "correct sentence:  I came here to see you again.\n",
            "Sequence:  i came here to see\n",
            "i\n",
            "came\n",
            "here\n",
            "to\n",
            "see\n",
            "next possible words:  ['him', 'that', 'you', 'out', 'upon']\n",
            "correct sentence:  If it does not kill us makes us stronger.\n",
            "Sequence:  if it does not kill\n",
            "if\n",
            "it\n",
            "does\n",
            "not\n",
            "kill\n",
            "next possible words:  ['your', 'to', 'her', 'there', 'his']\n",
            "correct sentence:  Are you heading back to the garden?\n",
            "Sequence:  are you heading back to\n",
            "are\n",
            "you\n",
            "heading\n",
            "back\n",
            "to\n",
            "next possible words:  ['a', 'the', 'see', 'this', 'his']\n"
          ]
        }
      ]
    }
  ]
}